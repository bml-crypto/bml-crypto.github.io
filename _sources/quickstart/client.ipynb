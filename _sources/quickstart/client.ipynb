{
 "cells": [
  {
   "cell_type": "markdown",
   "id": "295a5e44",
   "metadata": {},
   "source": [
    "(chapter1_part1)=\n",
    "\n",
    "# 2.1. Create dydx client\n",
    "\n",
    "Client - key ingredient, that allows you to interact with dydx via their library, so let's create one.\n",
    "\n",
    "## 2.1.1. Import libs\n",
    "\n",
    "In order to set up dydx connection, we will use `dydx3` lib, that responsible\n",
    "for dydx interacting logic and `web3` lib, that responsible for blockchain \n",
    "connection and works inside client."
   ]
  },
  {
   "cell_type": "code",
   "execution_count": 1,
   "id": "651661e5",
   "metadata": {},
   "outputs": [],
   "source": [
    "from dydx3 import Client\n",
    "from web3 import Web3, HTTPProvider"
   ]
  },
  {
   "cell_type": "markdown",
   "id": "862077fb",
   "metadata": {},
   "source": [
    "## 2.1.2. Create variables\n",
    "\n",
    "These variables configures dydx connection"
   ]
  },
  {
   "cell_type": "code",
   "execution_count": 2,
   "id": "ac625e28",
   "metadata": {},
   "outputs": [
    {
     "ename": "NameError",
     "evalue": "name 'STARK_KEY_PAIRS' is not defined",
     "output_type": "error",
     "traceback": [
      "\u001b[0;31m---------------------------------------------------------------------------\u001b[0m",
      "\u001b[0;31mNameError\u001b[0m                                 Traceback (most recent call last)",
      "Cell \u001b[0;32mIn[2], line 3\u001b[0m\n\u001b[1;32m      1\u001b[0m HOST\u001b[38;5;241m=\u001b[39m\u001b[38;5;124m'\u001b[39m\u001b[38;5;124mhttps://api.stage.dydx.exchange\u001b[39m\u001b[38;5;124m'\u001b[39m\n\u001b[1;32m      2\u001b[0m WEB3_PROVIDER\u001b[38;5;241m=\u001b[39m\u001b[38;5;124m'\u001b[39m\u001b[38;5;124mhttps://goerli.infura.io/v3/5a0bd09254d94ac1af88953907f4136c\u001b[39m\u001b[38;5;124m'\u001b[39m\n\u001b[0;32m----> 3\u001b[0m STARK_PRIVATE_KEY\u001b[38;5;241m=\u001b[39m\u001b[43mSTARK_KEY_PAIRS\u001b[49m[\u001b[38;5;124m\"\u001b[39m\u001b[38;5;124mprivateKey\u001b[39m\u001b[38;5;124m\"\u001b[39m]\n\u001b[1;32m      4\u001b[0m NETWORK_ID\u001b[38;5;241m=\u001b[39m\u001b[38;5;241m5\u001b[39m\n\u001b[1;32m      6\u001b[0m KEY\u001b[38;5;241m=\u001b[39mAPI_KEY_PAIRS[\u001b[38;5;124m\"\u001b[39m\u001b[38;5;124mkey\u001b[39m\u001b[38;5;124m\"\u001b[39m]\n",
      "\u001b[0;31mNameError\u001b[0m: name 'STARK_KEY_PAIRS' is not defined"
     ]
    }
   ],
   "source": [
    "HOST='https://api.stage.dydx.exchange'\n",
    "WEB3_PROVIDER='https://goerli.infura.io/v3/5a0bd09254d94ac1af88953907f4136c'\n",
    "STARK_PRIVATE_KEY=STARK_KEY_PAIRS[\"privateKey\"]\n",
    "NETWORK_ID=5\n",
    "\n",
    "KEY=API_KEY_PAIRS[\"key\"]\n",
    "SECRET=API_KEY_PAIRS[\"secret\"]\n",
    "PASSPHRASE=API_KEY_PAIRS[\"passphrase\"]\n",
    "DEFAULT_ETHEREUM_ADDRESS=API_KEY_PAIRS[\"walletAddress\"]"
   ]
  },
  {
   "cell_type": "markdown",
   "id": "7d94b6c0",
   "metadata": {},
   "source": [
    "Let's figure out what these variables mean. Here we simplify explanation from\n",
    "official [documentation](https://dydxprotocol.github.io/v3-teacher/?python#client-initialization).\n",
    "\n",
    "- `HOST` - as you remember dydx has mainnet and testnet blockchains and in this \n",
    "guide we will use testnet, but in future you can change it easily.\n",
    "- `WEB3_PROVIDER` - you need to choose web3 provider which will scan blockchain. \n",
    "For example, it can be infura.\n",
    "- `STARK_PRIVATE_KEY` - this key allows dydx platform to identify their users.\n",
    "For more information, you can check this [page](https://help.dydx.exchange/en/articles/4797307-what-is-a-stark-key).\n",
    "- `DEFAULT_ETHEREUM_ADDRESS` - your ethereum wallet address that linked to your\n",
    "dydx account.\n",
    "- `NETWORK_ID` - blockchain ID (1 - mainnet, 5 - testnet).\n",
    "- `KEY` - UUID that identifies your dydx credentials.\n",
    "- `SECRET` - secret string used for HMACs generation.\n",
    "- `PASSPHRASE` - pass phrase used for encrypt/decrypt `SECRET`.\n",
    "\n",
    "If you want some more details about `KEY`, `SECRET` and `PASSPHRASE`, you can \n",
    "check this [page](https://dydxprotocol.github.io/v3-teacher/?python#api-key-authentication).\n",
    "\n",
    "## 2.1.3. Creating client\n",
    "\n",
    "If we want to use `public` and `private` dydx apis we should create client\n",
    "as follows."
   ]
  },
  {
   "cell_type": "code",
   "execution_count": null,
   "id": "106f01a7",
   "metadata": {},
   "outputs": [],
   "source": [
    "client = Client(\n",
    "    host=HOST,\n",
    "    web3=Web3(HTTPProvider(WEB3_PROVIDER)),\n",
    "    stark_private_key=STARK_PRIVATE_KEY,\n",
    "    default_ethereum_address=DEFAULT_ETHEREUM_ADDRESS,\n",
    "    network_id=NETWORK_ID,\n",
    "    api_key_credentials={\n",
    "        \"key\": KEY,\n",
    "        \"secret\": SECRET,\n",
    "        \"passphrase\": PASSPHRASE\n",
    "    }\n",
    ")"
   ]
  },
  {
   "cell_type": "markdown",
   "id": "d8f321d9",
   "metadata": {},
   "source": [
    "And now we can interact with dydx via our `client`."
   ]
  }
 ],
 "metadata": {
  "jupytext": {
   "formats": "md:myst",
   "text_representation": {
    "extension": ".md",
    "format_name": "myst"
   }
  },
  "kernelspec": {
   "display_name": "Python 3",
   "language": "python",
   "name": "python3"
  },
  "language_info": {
   "codemirror_mode": {
    "name": "ipython",
    "version": 3
   },
   "file_extension": ".py",
   "mimetype": "text/x-python",
   "name": "python",
   "nbconvert_exporter": "python",
   "pygments_lexer": "ipython3",
   "version": "3.9.16"
  },
  "source_map": [
   11,
   23,
   26,
   31,
   41,
   67,
   80
  ]
 },
 "nbformat": 4,
 "nbformat_minor": 5
}