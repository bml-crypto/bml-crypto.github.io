{
 "cells": [
  {
   "cell_type": "markdown",
   "id": "e8b728d9",
   "metadata": {},
   "source": [
    "(chapter2_part2)=\n",
    "\n",
    "# 2.2. Creating first request\n",
    "\n",
    "Now we have all what we need to start interact with dydx.\n",
    "\n",
    "Before writing requests, we should know about some dydx modules:\n",
    "\n",
    "* **public** - Public API endpoints. You don't need authentication.\n",
    "* **private** - Private API endpoints. Requires authentication.\n",
    "\n",
    "If you want more details about modules, you can check this [page](https://dydxprotocol.github.io/v3-teacher/?python#client-initialization).\n",
    "\n",
    "## 2.2.1. Triggering public API\n",
    "\n",
    "Let's write our first dydx request! Firstly, we will start from public module\n",
    "and get specific market data. In this [page](https://dydxprotocol.github.io/v3-teacher/?python#exchange-sources) \n",
    "you can check other markets.\n",
    "\n",
    "```python\n",
    "from dydx3.constants import MARKET_ETH_USD\n",
    "\n",
    "markets = client.public.get_markets(MARKET_ETH_USD)\n",
    "```\n",
    "\n",
    "The result of any request to dydx via client is `dydx3.helpers.requests.Response` \n",
    "object. Due to get data you have to call `.data` attribute.\n",
    "\n",
    "```python\n",
    "markets.data\n",
    "```\n",
    "\n",
    "And you will get something like this:\n",
    "\n",
    "```text\n",
    "{'markets': {'ETH-USD': {'market': 'ETH-USD',\n",
    "   'status': 'ONLINE',\n",
    "   'baseAsset': 'ETH',\n",
    "   'quoteAsset': 'USD',\n",
    "   'stepSize': '0.001',\n",
    "   'tickSize': '0.1',\n",
    "   ...\n",
    "```\n",
    "\n",
    "In additional, we can get specific market orderbook.\n",
    "\n",
    "```python\n",
    "orderbook = client.public.get_orderbook(\n",
    "  market=MARKET_ETH_USD,\n",
    ")\n",
    "orderbook.data\n",
    "```\n",
    "\n",
    "As result, we will get something like this:\n",
    "\n",
    "```text\n",
    "{'asks': [{'size': '12.627', 'price': '1629.2'},\n",
    "  {'size': '22.095', 'price': '1629.4'},\n",
    "  {'size': '41.909', 'price': '1629.5'},\n",
    "  {'size': '44.373', 'price': '1629.6'},\n",
    "  {'size': '63.363', 'price': '1629.7'},\n",
    "  ...\n",
    "```\n",
    "\n",
    "If you want to see other public methods, you can check this [page](https://dydxprotocol.github.io/v3-teacher/?python#public-http-api).\n",
    "\n",
    "## 2.2.2. Triggering private API\n",
    "\n",
    "**Attention! If you want to use these endpoints you need at least \n",
    "`api_key_credentials` parameter in your `client` object!**\n",
    "\n",
    "Let's get dydx account info."
   ]
  },
  {
   "cell_type": "code",
   "execution_count": 1,
   "id": "43a5190c",
   "metadata": {},
   "outputs": [
    {
     "ename": "NameError",
     "evalue": "name 'client' is not defined",
     "output_type": "error",
     "traceback": [
      "\u001b[0;31m---------------------------------------------------------------------------\u001b[0m",
      "\u001b[0;31mNameError\u001b[0m                                 Traceback (most recent call last)",
      "Cell \u001b[0;32mIn[1], line 1\u001b[0m\n\u001b[0;32m----> 1\u001b[0m user \u001b[38;5;241m=\u001b[39m \u001b[43mclient\u001b[49m\u001b[38;5;241m.\u001b[39mprivate\u001b[38;5;241m.\u001b[39mget_user()\n\u001b[1;32m      2\u001b[0m user\u001b[38;5;241m.\u001b[39mdata\n",
      "\u001b[0;31mNameError\u001b[0m: name 'client' is not defined"
     ]
    }
   ],
   "source": [
    "user = client.private.get_user()\n",
    "user.data"
   ]
  }
 ],
 "metadata": {
  "jupytext": {
   "formats": "md:myst",
   "text_representation": {
    "extension": ".md",
    "format_name": "myst"
   }
  },
  "kernelspec": {
   "display_name": "Python 3",
   "language": "python",
   "name": "python3"
  },
  "language_info": {
   "codemirror_mode": {
    "name": "ipython",
    "version": 3
   },
   "file_extension": ".py",
   "mimetype": "text/x-python",
   "name": "python",
   "nbconvert_exporter": "python",
   "pygments_lexer": "ipython3",
   "version": "3.9.16"
  },
  "source_map": [
   11,
   85
  ]
 },
 "nbformat": 4,
 "nbformat_minor": 5
}