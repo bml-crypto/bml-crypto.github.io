{
 "cells": [
  {
   "cell_type": "markdown",
   "id": "fe00387b",
   "metadata": {},
   "source": [
    "(chapter1_part1)=\n",
    "\n",
    "# 2.2. Creating first request\n",
    "\n",
    "Now we have all what we need to start interact with dydx.\n",
    "\n",
    "Before writing requests, we should know about some dydx modules:\n",
    "\n",
    "* **public** - Public API endpoints. You don't need authentication.\n",
    "* **private** - Private API endpoints. Requires authentication.\n",
    "\n",
    "If you want more details about modules, you can check this [page](https://dydxprotocol.github.io/v3-teacher/?python#client-initialization).\n",
    "\n",
    "### 2.2.1. Triggering public API\n",
    "\n",
    "Let's write our first dydx request! Firstly, we will start from public module\n",
    "and get specific market data. In this [page](https://dydxprotocol.github.io/v3-teacher/?python#exchange-sources) \n",
    "you can check other markets.\n",
    "\n",
    "```python\n",
    "from dydx3.constants import MARKET_ETH_USD\n",
    "\n",
    "markets = client.public.get_markets(MARKET_ETH_USD)\n",
    "```\n",
    "\n",
    "The result of any request to dydx via client is `dydx3.helpers.requests.Response` \n",
    "object. Due to get data you have to call `.data` attribute.\n",
    "\n",
    "```python\n",
    "markets.data\n",
    "```\n",
    "\n",
    "And you will get something like this:\n",
    "\n",
    "```text\n",
    "{'markets': {'ETH-USD': {'market': 'ETH-USD',\n",
    "   'status': 'ONLINE',\n",
    "   'baseAsset': 'ETH',\n",
    "   'quoteAsset': 'USD',\n",
    "   'stepSize': '0.001',\n",
    "   'tickSize': '0.1',\n",
    "   ...\n",
    "```\n",
    "\n",
    "In additional, we can get specific market orderbook.\n",
    "\n",
    "```python\n",
    "orderbook = client.public.get_orderbook(\n",
    "  market=MARKET_ETH_USD,\n",
    ")\n",
    "orderbook.data\n",
    "```\n",
    "\n",
    "As result, we will get something like this:\n",
    "\n",
    "```text\n",
    "{'asks': [{'size': '12.627', 'price': '1629.2'},\n",
    "  {'size': '22.095', 'price': '1629.4'},\n",
    "  {'size': '41.909', 'price': '1629.5'},\n",
    "  {'size': '44.373', 'price': '1629.6'},\n",
    "  {'size': '63.363', 'price': '1629.7'},\n",
    "  ...\n",
    "```\n",
    "\n",
    "If you want to see other public methods, you can check this [page](https://dydxprotocol.github.io/v3-teacher/?python#public-http-api)."
   ]
  }
 ],
 "metadata": {
  "jupytext": {
   "formats": "md:myst",
   "text_representation": {
    "extension": ".md",
    "format_name": "myst"
   }
  },
  "kernelspec": {
   "display_name": "Python 3",
   "language": "python",
   "name": "python3"
  },
  "source_map": [
   11
  ]
 },
 "nbformat": 4,
 "nbformat_minor": 5
}