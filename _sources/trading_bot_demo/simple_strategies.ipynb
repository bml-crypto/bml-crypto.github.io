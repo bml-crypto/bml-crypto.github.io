{
 "cells": [
  {
   "cell_type": "markdown",
   "id": "199d8550",
   "metadata": {},
   "source": [
    "(chapter5_part2)=\n",
    "\n",
    "# 5.2. Creating simple strategy"
   ]
  }
 ],
 "metadata": {
  "jupytext": {
   "formats": "md:myst",
   "text_representation": {
    "extension": ".md",
    "format_name": "myst"
   }
  },
  "kernelspec": {
   "display_name": "Python 3",
   "language": "python",
   "name": "python3"
  },
  "source_map": [
   11
  ]
 },
 "nbformat": 4,
 "nbformat_minor": 5
}