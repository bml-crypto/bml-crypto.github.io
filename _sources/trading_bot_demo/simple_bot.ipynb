{
 "cells": [
  {
   "cell_type": "markdown",
   "id": "c6b9b83c",
   "metadata": {},
   "source": [
    "(chapter5_part1)=\n",
    "\n",
    "# 5.1. Creating simple trading bot"
   ]
  }
 ],
 "metadata": {
  "jupytext": {
   "formats": "md:myst",
   "text_representation": {
    "extension": ".md",
    "format_name": "myst"
   }
  },
  "kernelspec": {
   "display_name": "Python 3",
   "language": "python",
   "name": "python3"
  },
  "source_map": [
   11
  ]
 },
 "nbformat": 4,
 "nbformat_minor": 5
}