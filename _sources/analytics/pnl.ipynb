{
 "cells": [
  {
   "cell_type": "markdown",
   "id": "024a55bb",
   "metadata": {},
   "source": [
    "(chapter4_part3)=\n",
    "\n",
    "# 4.3. TBD"
   ]
  }
 ],
 "metadata": {
  "jupytext": {
   "formats": "md:myst",
   "text_representation": {
    "extension": ".md",
    "format_name": "myst"
   }
  },
  "kernelspec": {
   "display_name": "Python 3",
   "language": "python",
   "name": "python3"
  },
  "source_map": [
   11
  ]
 },
 "nbformat": 4,
 "nbformat_minor": 5
}