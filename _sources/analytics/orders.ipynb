{
 "cells": [
  {
   "cell_type": "markdown",
   "id": "1630cc6c",
   "metadata": {},
   "source": [
    "(chapter4_part2)=\n",
    "\n",
    "# 4.2. TBD"
   ]
  }
 ],
 "metadata": {
  "jupytext": {
   "formats": "md:myst",
   "text_representation": {
    "extension": ".md",
    "format_name": "myst"
   }
  },
  "kernelspec": {
   "display_name": "Python 3",
   "language": "python",
   "name": "python3"
  },
  "source_map": [
   11
  ]
 },
 "nbformat": 4,
 "nbformat_minor": 5
}