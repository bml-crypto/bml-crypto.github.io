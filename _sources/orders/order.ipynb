{
 "cells": [
  {
   "cell_type": "markdown",
   "id": "4d33bb27",
   "metadata": {},
   "source": [
    "(chapter3_part1)=\n",
    "\n",
    "# 3.1. Simple order\n",
    "\n",
    "In order to execute a simple order, you need to know your `position_id`. This can be found from your account. \n",
    "\n",
    "\n",
    "```python\n",
    "account_response = client.private.get_account()\n",
    "position_id = account_response.data['account']['positionId']\n",
    "```\n",
    "\n",
    "Let's imagine you want to buy 1 ETH. The order is going to be the following:\n",
    "\n",
    "```python\n",
    "import time\n",
    "from dydx3.constants import ORDER_SIDE_BUY, ORDER_TYPE_MARKET, MARKET_ETH_USD\n",
    "\n",
    "client.private.create_order(\n",
    "        position_id=position_id,\n",
    "        market=MARKET_ETH_USD,\n",
    "        side=ORDER_SIDE_BUY,\n",
    "        order_type=ORDER_TYPE_MARKET,\n",
    "        post_only=False,\n",
    "        size=\"1\",\n",
    "        price=\"9999\",\n",
    "        limit_fee=\"0.1\",\n",
    "        expiration_epoch_seconds=time.time()+120,\n",
    "        time_in_force=\"FOK\"\n",
    ")\n",
    "```\n",
    "\n",
    "And the order is created. Now, let's dive into what each parameter of this method means.\n",
    "\n",
    "- `position_id` - required for an order to be placed\n",
    "- `market` - the market you want to trade in. Currently we chose to buy 1 ETH, hence the market is MARKET_ETH_USD\n",
    "- `side` - either BUY or SELL. We want to BUY, hence the side is going to be ORDER_SIDE_BUY\n",
    "- `order_type` - type of an order to execute. This can be MARKET, LIMIT, STOP_LIMIT, TRAILING_STOP or TAKE_PROFIT.We want to execute a market order, hence ORDER_TYPE_MARKET.\n",
    "- `post_only` - whether the order should be canceled if it would fill immediately on reaching the matching-engine. This parameter is used for testing purposes.\n",
    "- `size` - size of the order, in base currency (i.e. an ETH-USD position of size 1 represents 1 ETH). We want to buy 1 ETH, so the size should be \"1\"\n",
    "- `price` - worst accepted price of the base asset in USD.\n",
    "- `limit_fee` - is the highest accepted fee for the trade.\n",
    "- `expiration_epoch_seconds` - time at which the order will expire if not filled. This is the Good-Till-Time and is accurate to a granularity of about 15 seconds.\n",
    "- `time_in_force` - (Optional) one of GTT (Good till time), FOK (Fill or kill) or IOC (Immediate or cancel). This will default to GTT.\n",
    "\n",
    "We will talk about all the parameters in more detail in the next section."
   ]
  }
 ],
 "metadata": {
  "jupytext": {
   "formats": "md:myst",
   "text_representation": {
    "extension": ".md",
    "format_name": "myst"
   }
  },
  "kernelspec": {
   "display_name": "Python 3",
   "language": "python",
   "name": "python3"
  },
  "language_info": {
   "codemirror_mode": {
    "name": "ipython",
    "version": 3
   },
   "file_extension": ".py",
   "mimetype": "text/x-python",
   "name": "python",
   "nbconvert_exporter": "python",
   "pygments_lexer": "ipython3",
   "version": "3.9.16"
  },
  "source_map": [
   11
  ]
 },
 "nbformat": 4,
 "nbformat_minor": 5
}