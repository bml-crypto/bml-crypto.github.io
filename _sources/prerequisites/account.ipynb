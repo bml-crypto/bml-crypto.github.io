{
 "cells": [
  {
   "cell_type": "markdown",
   "id": "f50479d6",
   "metadata": {},
   "source": [
    "(chapter1_part1)=\n",
    "\n",
    "# 1. Account Creation\n",
    "\n",
    "To interact with the dydx protocol, you need to create an account on dydx platform. There are two types of dydx platforms to consider: one on mainnet (https://trade.dydx.exchange) and one on testnet (https://trade.stage.dydx.exchange). In this guide we use the latter platform, as it is identical to the mainnet and allows you to use virtual money to explore the platform without the risk of investing real money. Once you feel confident, the mainnet is the place where you can invest real money for real profits.\n",
    "\n",
    "To create an account:\n",
    "\n",
    "1. Go to the [dydx platform](https://trade.stage.dydx.exchange/) and click **Connect Wallet** on the top right corner.\n",
    "2. Choose wallet you would like to connect. In this guide we use [Metamask](https://metamask.io/).\n",
    "3. On Link Wallet window, mark Remember Me flag and sign two requests in Metamask wallet.\n",
    "\n",
    "\n",
    "\n",
    "# 2. Keys Extraction\n",
    "\n",
    "Extract API_KEY_PAIRS and STARK_KEY_PAIRS from dydx.\n",
    "\n",
    "1. Go to the developer settings on your browser (with Chrome: right-click -> inspect page)\n",
    "2. Open **Application**\n",
    "3. In **Storage** -> **Local Storage**, open https://trade.stage.dydx.exchange/ and find API_KEY_PAIRS and STARK_KEY_PAIRS.\n",
    "    - API_KEY_PAIRS is a Metamask key.\n",
    "    - STARK_KEY_PAIRS is a Dydx key.\n",
    "4. Save these keys. We will need these keys further."
   ]
  },
  {
   "cell_type": "code",
   "execution_count": 1,
   "id": "16ab50f3",
   "metadata": {},
   "outputs": [
    {
     "ename": "NameError",
     "evalue": "name 'false' is not defined",
     "output_type": "error",
     "traceback": [
      "\u001b[0;31m---------------------------------------------------------------------------\u001b[0m",
      "\u001b[0;31mNameError\u001b[0m                                 Traceback (most recent call last)",
      "Cell \u001b[0;32mIn[1], line 8\u001b[0m\n\u001b[1;32m      1\u001b[0m \u001b[38;5;66;03m# API_KEY_PAIRS\u001b[39;00m\n\u001b[1;32m      3\u001b[0m {\n\u001b[1;32m      4\u001b[0m   \u001b[38;5;124m\"\u001b[39m\u001b[38;5;124mwalletAddress\u001b[39m\u001b[38;5;124m\"\u001b[39m: \u001b[38;5;124m\"\u001b[39m\u001b[38;5;124m0x02WQnO69112bdEB7V6339671e4c36f5F7de82b57\u001b[39m\u001b[38;5;124m\"\u001b[39m,\n\u001b[1;32m      5\u001b[0m   \u001b[38;5;124m\"\u001b[39m\u001b[38;5;124msecret\u001b[39m\u001b[38;5;124m\"\u001b[39m: \u001b[38;5;124m\"\u001b[39m\u001b[38;5;124mr3UI_OiC0pmt3ShNz0oiEoHpIXACWwkUC2q1WWHD\u001b[39m\u001b[38;5;124m\"\u001b[39m,\n\u001b[1;32m      6\u001b[0m   \u001b[38;5;124m\"\u001b[39m\u001b[38;5;124mkey\u001b[39m\u001b[38;5;124m\"\u001b[39m: \u001b[38;5;124m\"\u001b[39m\u001b[38;5;124m5xx0dc83-a4cf-6e29-6afa-f21b3i74f347\u001b[39m\u001b[38;5;124m\"\u001b[39m,\n\u001b[1;32m      7\u001b[0m   \u001b[38;5;124m\"\u001b[39m\u001b[38;5;124mpassphrase\u001b[39m\u001b[38;5;124m\"\u001b[39m: \u001b[38;5;124m\"\u001b[39m\u001b[38;5;124mcV2KiULwiw6RwMgMd35d\u001b[39m\u001b[38;5;124m\"\u001b[39m,\n\u001b[0;32m----> 8\u001b[0m   \u001b[38;5;124m\"\u001b[39m\u001b[38;5;124mlegacySigning\u001b[39m\u001b[38;5;124m\"\u001b[39m: \u001b[43mfalse\u001b[49m,\n\u001b[1;32m      9\u001b[0m   \u001b[38;5;124m\"\u001b[39m\u001b[38;5;124mwalletType\u001b[39m\u001b[38;5;124m\"\u001b[39m: \u001b[38;5;124m\"\u001b[39m\u001b[38;5;124mMETAMASK\u001b[39m\u001b[38;5;124m\"\u001b[39m\n\u001b[1;32m     10\u001b[0m }\n",
      "\u001b[0;31mNameError\u001b[0m: name 'false' is not defined"
     ]
    }
   ],
   "source": [
    "# API_KEY_PAIRS\n",
    "\n",
    "{\n",
    "  \"walletAddress\": \"0x02WQnO69112bdEB7V6339671e4c36f5F7de82b57\",\n",
    "  \"secret\": \"r3UI_OiC0pmt3ShNz0oiEoHpIXACWwkUC2q1WWHD\",\n",
    "  \"key\": \"5xx0dc83-a4cf-6e29-6afa-f21b3i74f347\",\n",
    "  \"passphrase\": \"cV2KiULwiw6RwMgMd35d\",\n",
    "  \"legacySigning\": false,\n",
    "  \"walletType\": \"METAMASK\"\n",
    "}"
   ]
  },
  {
   "cell_type": "code",
   "execution_count": null,
   "id": "b2281710",
   "metadata": {},
   "outputs": [],
   "source": [
    "# STARK_KEY_PAIRS\n",
    "\n",
    "{\n",
    "  \"walletAddress\": \"0x02WQnO69112bdEB7V6339671e4c36f5F7de82b57\",\n",
    "  \"publicKey\": \"012ecde10e6ddb43b961673d45rtab8c2e93604f34f419b24eef1e80af8347ee\",\n",
    "  \"publicKeyYCoordinate\": \"04bb0cc4efe5eba08f5d35d7310d520093e22804fa562d820e8df0176c0fa371\",\n",
    "  \"privateKey\": \"045683f987043e98536470976dbb145d44c1100drd237740d4096e5a21d1e79c\",\n",
    "  \"legacySigning\": false,\n",
    "  \"walletType\": \"METAMASK\"\n",
    "}"
   ]
  }
 ],
 "metadata": {
  "jupytext": {
   "formats": "md:myst",
   "text_representation": {
    "extension": ".md",
    "format_name": "myst"
   }
  },
  "kernelspec": {
   "display_name": "Python 3",
   "language": "python",
   "name": "python3"
  },
  "language_info": {
   "codemirror_mode": {
    "name": "ipython",
    "version": 3
   },
   "file_extension": ".py",
   "mimetype": "text/x-python",
   "name": "python",
   "nbconvert_exporter": "python",
   "pygments_lexer": "ipython3",
   "version": "3.9.16"
  },
  "source_map": [
   11,
   38,
   51
  ]
 },
 "nbformat": 4,
 "nbformat_minor": 5
}