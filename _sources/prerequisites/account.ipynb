{
 "cells": [
  {
   "cell_type": "markdown",
   "id": "1083f13f",
   "metadata": {},
   "source": [
    "(chapter1_part1)=\n",
    "\n",
    "\n",
    "# 1. Account Creation\n",
    "To interact with the dydx protocol, you need to create an account on dydx platform. There are two types of dydx platforms to consider: one on mainnet (https://trade.dydx.exchange) and one on testnet (https://trade.stage.dydx.exchange). In this guide we use the latter platform, as it is identical to the mainnet and allows you to use virtual money to explore the platform without the risk of investing real money. Once you feel confident, the mainnet is the place where you can invest real money for real profits.\n",
    "\n",
    "To create an account:\n",
    "\n",
    "1. Go to the [dydx platform](https://trade.stage.dydx.exchange/) and click **Connect Wallet** on the top right corner.\n",
    "2. Choose wallet you would like to connect. In this guide we use [Metamask](https://metamask.io/).\n",
    "3. On Link Wallet window, mark Remember Me flag and sign two requests in Metamask wallet.\n",
    "\n",
    "\n",
    "\n",
    "# 2. Keys Extraction\n",
    "\n",
    "Extract API_KEY_PAIRS and STARK_KEY_PAIRS from dydx.\n",
    "\n",
    "1. Go to the developer settings on your browser (with Chrome: right-click -> inspect page)\n",
    "2. Open **Application**\n",
    "3. In **Storage** -> **Local Storage**, open https://trade.stage.dydx.exchange/ and find API_KEY_PAIRS and STARK_KEY_PAIRS.\n",
    "    - API_KEY_PAIRS is a Metamask key.\n",
    "    - STARK_KEY_PAIRS is a Dydx key.\n",
    "4. Save these keys. We will need them later."
   ]
  },
  {
   "cell_type": "code",
   "execution_count": null,
   "id": "a5c43dd3",
   "metadata": {},
   "outputs": [],
   "source": [
    "# API_KEY_PAIRS\n",
    "\n",
    "{\n",
    "  \"walletAddress\": \"0x02WQnO69112bdEB7V6339671e4c36f5F7de82b57\",\n",
    "  \"secret\": \"r3UI_OiC0pmt3ShNz0oiEoHpIXACWwkUC2q1WWHD\",\n",
    "  \"key\": \"5xx0dc83-a4cf-6e29-6afa-f21b3i74f347\",\n",
    "  \"passphrase\": \"cV2KiULwiw6RwMgMd35d\",\n",
    "  \"legacySigning\": \"false\",\n",
    "  \"walletType\": \"METAMASK\"\n",
    "}"
   ]
  },
  {
   "cell_type": "code",
   "execution_count": null,
   "id": "b9602a59",
   "metadata": {},
   "outputs": [],
   "source": [
    "# STARK_KEY_PAIRS\n",
    "\n",
    "{\n",
    "  \"walletAddress\": \"0x02WQnO69112bdEB7V6339671e4c36f5F7de82b57\",\n",
    "  \"publicKey\": \"012ecde10e6ddb43b961673d45rtab8c2e93604f34f419b24eef1e80af8347ee\",\n",
    "  \"publicKeyYCoordinate\": \"04bb0cc4efe5eba08f5d35d7310d520093e22804fa562d820e8df0176c0fa371\",\n",
    "  \"privateKey\": \"045683f987043e98536470976dbb145d44c1100drd237740d4096e5a21d1e79c\",\n",
    "  \"legacySigning\": \"false\",\n",
    "  \"walletType\": \"METAMASK\"\n",
    "}"
   ]
  }
 ],
 "metadata": {
  "jupytext": {
   "formats": "md:myst",
   "text_representation": {
    "extension": ".md",
    "format_name": "myst"
   }
  },
  "kernelspec": {
   "display_name": "Python 3",
   "language": "python",
   "name": "python3"
  },
  "source_map": [
   11,
   38,
   51
  ]
 },
 "nbformat": 4,
 "nbformat_minor": 5
}