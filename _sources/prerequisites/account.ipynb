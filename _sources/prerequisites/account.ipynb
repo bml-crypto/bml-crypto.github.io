{
 "cells": [
  {
   "cell_type": "markdown",
   "id": "d3c43f43",
   "metadata": {},
   "source": [
    "(chapter1_part1)=\n",
    "\n",
    "# 1.1. Create account & extract keys\n",
    "To interact with the dydx protocol, you need to create an account on dydx platform. There are two types of dydx platforms to consider: one on mainnet (https://trade.dydx.exchange) and one on testnet (https://trade.stage.dydx.exchange). In this guide we use the latter platform, as it is identical to the mainnet and allows you to use virtual money to explore the platform without the risk of investing real money. Once you feel confident, the mainnet is the place where you can invest real money for real profits.\n",
    "\n",
    "## 1.1.1. Account Creation\n",
    "\n",
    "To create an account:\n",
    "\n",
    "1. Go to the [dydx platform](https://trade.stage.dydx.exchange/) and click **Connect Wallet** on the top right corner.\n",
    "2. Choose wallet you would like to connect. In this guide we use [Metamask](https://metamask.io/).\n",
    "3. On Link Wallet window, mark Remember Me flag and sign two requests in Metamask wallet.\n",
    "\n",
    "\n",
    "\n",
    "## 1.1.2. Keys Extraction\n",
    "\n",
    "Keys play an essential role as they allow your code to execute trades and extract private information on behalf of your account. You will need two set of credentials to extract: Metamask credentials and dydx credentials. This can be done following three simple steps in a browser of your choice.\n",
    "\n",
    "1. Go to the developer settings on your browser (in Chrome: right-click -> inspect page)\n",
    "2. Open **Application**\n",
    "3. In **Storage** -> **Local Storage**, open https://trade.stage.dydx.exchange/ and find API_KEY_PAIRS (Metamask creds) and STARK_KEY_PAIRS (dydx creds) in a JSON format.\n",
    "\n",
    "![](../_static/gif/client.gif)\n",
    "\n",
    "\n",
    "Save these JSON keys as dictionaries in Python. We will need them later."
   ]
  },
  {
   "cell_type": "code",
   "execution_count": 1,
   "id": "3d3fa2ad",
   "metadata": {},
   "outputs": [],
   "source": [
    "# dict with Metamask account creds\n",
    "\n",
    "API_KEY_PAIRS = {\n",
    "  \"walletAddress\": \"0x02WQnO69112bdEB7V6339671e4c36f5F7de82b57\",\n",
    "  \"secret\": \"r3UI_OiC0pmt3ShNz0oiEoHpIXACWwkUC2q1WWHD\",\n",
    "  \"key\": \"5xx0dc83-a4cf-6e29-6afa-f21b3i74f347\",\n",
    "  \"passphrase\": \"cV2KiULwiw6RwMgMd35d\",\n",
    "  \"legacySigning\": False,\n",
    "  \"walletType\": \"METAMASK\"\n",
    "}"
   ]
  },
  {
   "cell_type": "code",
   "execution_count": 2,
   "id": "a47cf26a",
   "metadata": {},
   "outputs": [],
   "source": [
    "# dict with dydx account creds\n",
    "\n",
    "STARK_KEY_PAIRS = {\n",
    "  \"walletAddress\": \"0x02WQnO69112bdEB7V6339671e4c36f5F7de82b57\",\n",
    "  \"publicKey\": \"012ecde10e6ddb43b961673d45rtab8c2e93604f34f419b24eef1e80af8347ee\",\n",
    "  \"publicKeyYCoordinate\": \"04bb0cc4efe5eba08f5d35d7310d520093e22804fa562d820e8df0176c0fa371\",\n",
    "  \"privateKey\": \"045683f987043e98536470976dbb145d44c1100drd237740d4096e5a21d1e79c\",\n",
    "  \"legacySigning\": False,\n",
    "  \"walletType\": \"METAMASK\"\n",
    "}"
   ]
  },
  {
   "cell_type": "markdown",
   "id": "d0c2556a",
   "metadata": {},
   "source": [
    "From these dicts you can later easily extract Metamask secret key or Dydx secret key:"
   ]
  },
  {
   "cell_type": "code",
   "execution_count": 3,
   "id": "a97adb47",
   "metadata": {},
   "outputs": [
    {
     "name": "stdout",
     "output_type": "stream",
     "text": [
      "Metamask secret key: r3UI_OiC0pmt3ShNz0oiEoHpIXACWwkUC2q1WWHD\n",
      "Dydx secret key: 045683f987043e98536470976dbb145d44c1100drd237740d4096e5a21d1e79c\n"
     ]
    }
   ],
   "source": [
    "print(f\"Metamask secret key: {API_KEY_PAIRS['secret']}\")\n",
    "print(f\"Dydx secret key: {STARK_KEY_PAIRS['privateKey']}\")"
   ]
  }
 ],
 "metadata": {
  "jupytext": {
   "formats": "md:myst",
   "text_representation": {
    "extension": ".md",
    "format_name": "myst"
   }
  },
  "kernelspec": {
   "display_name": "Python 3",
   "language": "python",
   "name": "python3"
  },
  "language_info": {
   "codemirror_mode": {
    "name": "ipython",
    "version": 3
   },
   "file_extension": ".py",
   "mimetype": "text/x-python",
   "name": "python",
   "nbconvert_exporter": "python",
   "pygments_lexer": "ipython3",
   "version": "3.9.16"
  },
  "source_map": [
   11,
   41,
   54,
   65,
   69
  ]
 },
 "nbformat": 4,
 "nbformat_minor": 5
}