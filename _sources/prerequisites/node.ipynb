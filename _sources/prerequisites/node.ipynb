{
 "cells": [
  {
   "cell_type": "markdown",
   "id": "2bcd5b73",
   "metadata": {},
   "source": [
    "(chapter1_part2)=\n",
    "\n",
    "# 1.2. Connect to Node\n",
    "Besides keys, you also need to have an URL to connect to a blockchain of your interest. We will use INFURA for that."
   ]
  }
 ],
 "metadata": {
  "jupytext": {
   "formats": "md:myst",
   "text_representation": {
    "extension": ".md",
    "format_name": "myst"
   }
  },
  "kernelspec": {
   "display_name": "Python 3",
   "language": "python",
   "name": "python3"
  },
  "language_info": {
   "codemirror_mode": {
    "name": "ipython",
    "version": 3
   },
   "file_extension": ".py",
   "mimetype": "text/x-python",
   "name": "python",
   "nbconvert_exporter": "python",
   "pygments_lexer": "ipython3",
   "version": "3.9.16"
  },
  "source_map": [
   11
  ]
 },
 "nbformat": 4,
 "nbformat_minor": 5
}