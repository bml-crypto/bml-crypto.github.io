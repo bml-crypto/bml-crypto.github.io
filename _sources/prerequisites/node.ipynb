{
 "cells": [
  {
   "cell_type": "markdown",
   "id": "a63f3f81",
   "metadata": {},
   "source": [
    "(chapter1_part2)=\n",
    "\n",
    "# 1.2. Connect to Node\n",
    "Besides keys, you also need to have an URL to connect to a blockchain of your interest. We will use INFURA for that."
   ]
  }
 ],
 "metadata": {
  "jupytext": {
   "formats": "md:myst",
   "text_representation": {
    "extension": ".md",
    "format_name": "myst"
   }
  },
  "kernelspec": {
   "display_name": "Python 3",
   "language": "python",
   "name": "python3"
  },
  "source_map": [
   11
  ]
 },
 "nbformat": 4,
 "nbformat_minor": 5
}