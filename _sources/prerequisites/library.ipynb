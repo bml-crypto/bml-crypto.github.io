{
 "cells": [
  {
   "cell_type": "markdown",
   "id": "c9e4c807",
   "metadata": {},
   "source": [
    "(chapter1_part3)=\n",
    "\n",
    "# 1.3. Install Python Library\n",
    "First of all, we have to install dydx library, that allows to connect \n",
    "and interact with dydx.\n",
    "\n",
    "```shell\n",
    "pip install dydx-v3-python\n",
    "```\n",
    "\n",
    "Now we prepared to write dydx client and use dydx api in python!"
   ]
  }
 ],
 "metadata": {
  "jupytext": {
   "formats": "md:myst",
   "text_representation": {
    "extension": ".md",
    "format_name": "myst"
   }
  },
  "kernelspec": {
   "display_name": "Python 3",
   "language": "python",
   "name": "python3"
  },
  "language_info": {
   "codemirror_mode": {
    "name": "ipython",
    "version": 3
   },
   "file_extension": ".py",
   "mimetype": "text/x-python",
   "name": "python",
   "nbconvert_exporter": "python",
   "pygments_lexer": "ipython3",
   "version": "3.9.16"
  },
  "source_map": [
   11
  ]
 },
 "nbformat": 4,
 "nbformat_minor": 5
}