{
 "cells": [
  {
   "cell_type": "markdown",
   "id": "b7b6e236",
   "metadata": {},
   "source": [
    "(chapter1_part3)=\n",
    "\n",
    "# 1.3. Install Python Library\n",
    "First of all, we have to install dydx library, that allows to connect \n",
    "and interact with dydx.\n",
    "\n",
    "```shell\n",
    "pip install dydx-v3-python\n",
    "```\n",
    "\n",
    "Now we prepared to write dydx client and use dydx api in python!"
   ]
  }
 ],
 "metadata": {
  "jupytext": {
   "formats": "md:myst",
   "text_representation": {
    "extension": ".md",
    "format_name": "myst"
   }
  },
  "kernelspec": {
   "display_name": "Python 3",
   "language": "python",
   "name": "python3"
  },
  "source_map": [
   11
  ]
 },
 "nbformat": 4,
 "nbformat_minor": 5
}