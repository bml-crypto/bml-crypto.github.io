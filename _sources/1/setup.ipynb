{
 "cells": [
  {
   "cell_type": "markdown",
   "id": "64f98113",
   "metadata": {},
   "source": [
    "(chapter1_part1)=\n",
    "\n",
    "# 123"
   ]
  },
  {
   "cell_type": "code",
   "execution_count": 1,
   "id": "a05f678b",
   "metadata": {},
   "outputs": [],
   "source": [
    "import numpy as np #to work with numbers"
   ]
  },
  {
   "cell_type": "markdown",
   "id": "d54c6eda",
   "metadata": {},
   "source": [
    "Next step is to re-create our hypothetical dataset that we've been working with:"
   ]
  },
  {
   "cell_type": "code",
   "execution_count": 2,
   "id": "b305719b",
   "metadata": {},
   "outputs": [
    {
     "name": "stdout",
     "output_type": "stream",
     "text": [
      "[[30]\n",
      " [46]\n",
      " [60]\n",
      " [65]\n",
      " [77]\n",
      " [95]]\n"
     ]
    }
   ],
   "source": [
    "x = np.array([[30], [46], [60], [65], [77], [95]])\n",
    "y = np.array([31, 30, 80, 49, 70, 118])\n",
    "print(x)"
   ]
  }
 ],
 "metadata": {
  "jupytext": {
   "formats": "md:myst",
   "text_representation": {
    "extension": ".md",
    "format_name": "myst"
   }
  },
  "kernelspec": {
   "display_name": "Python 3",
   "language": "python",
   "name": "python3"
  },
  "language_info": {
   "codemirror_mode": {
    "name": "ipython",
    "version": 3
   },
   "file_extension": ".py",
   "mimetype": "text/x-python",
   "name": "python",
   "nbconvert_exporter": "python",
   "pygments_lexer": "ipython3",
   "version": "3.10.7"
  },
  "source_map": [
   11,
   19,
   21,
   25
  ]
 },
 "nbformat": 4,
 "nbformat_minor": 5
}